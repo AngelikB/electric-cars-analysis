{
 "cells": [
  {
   "cell_type": "markdown",
   "id": "5cac3c7d-d972-4bab-8b9a-f4d14e682730",
   "metadata": {},
   "source": [
    "## Instructions\n",
    "\n",
    "First install specific versions of the openai, langchain, and typing_extensions packages."
   ]
  },
  {
   "cell_type": "code",
   "execution_count": 1,
   "id": "67459367-9f5b-425b-b37d-b11c7219ad7b",
   "metadata": {},
   "outputs": [
    {
     "name": "stdout",
     "output_type": "stream",
     "text": [
      "Requirement already satisfied: openai==1.27 in /Users/abecker/.pyenv/versions/3.9.12/lib/python3.9/site-packages (1.27.0)\n",
      "Requirement already satisfied: anyio<5,>=3.5.0 in /Users/abecker/.pyenv/versions/3.9.12/lib/python3.9/site-packages (from openai==1.27) (4.2.0)\n",
      "Requirement already satisfied: distro<2,>=1.7.0 in /Users/abecker/.pyenv/versions/3.9.12/lib/python3.9/site-packages (from openai==1.27) (1.9.0)\n",
      "Requirement already satisfied: httpx<1,>=0.23.0 in /Users/abecker/.pyenv/versions/3.9.12/lib/python3.9/site-packages (from openai==1.27) (0.27.0)\n",
      "Requirement already satisfied: pydantic<3,>=1.9.0 in /Users/abecker/.pyenv/versions/3.9.12/lib/python3.9/site-packages (from openai==1.27) (2.6.1)\n",
      "Requirement already satisfied: sniffio in /Users/abecker/.pyenv/versions/3.9.12/lib/python3.9/site-packages (from openai==1.27) (1.3.0)\n",
      "Requirement already satisfied: tqdm>4 in /Users/abecker/.pyenv/versions/3.9.12/lib/python3.9/site-packages (from openai==1.27) (4.66.1)\n",
      "Requirement already satisfied: typing-extensions<5,>=4.7 in /Users/abecker/.pyenv/versions/3.9.12/lib/python3.9/site-packages (from openai==1.27) (4.11.0)\n",
      "Requirement already satisfied: idna>=2.8 in /Users/abecker/.pyenv/versions/3.9.12/lib/python3.9/site-packages (from anyio<5,>=3.5.0->openai==1.27) (3.4)\n",
      "Requirement already satisfied: exceptiongroup>=1.0.2 in /Users/abecker/.pyenv/versions/3.9.12/lib/python3.9/site-packages (from anyio<5,>=3.5.0->openai==1.27) (1.1.3)\n",
      "Requirement already satisfied: certifi in /Users/abecker/.pyenv/versions/3.9.12/lib/python3.9/site-packages (from httpx<1,>=0.23.0->openai==1.27) (2023.7.22)\n",
      "Requirement already satisfied: httpcore==1.* in /Users/abecker/.pyenv/versions/3.9.12/lib/python3.9/site-packages (from httpx<1,>=0.23.0->openai==1.27) (1.0.4)\n",
      "Requirement already satisfied: h11<0.15,>=0.13 in /Users/abecker/.pyenv/versions/3.9.12/lib/python3.9/site-packages (from httpcore==1.*->httpx<1,>=0.23.0->openai==1.27) (0.14.0)\n",
      "Requirement already satisfied: annotated-types>=0.4.0 in /Users/abecker/.pyenv/versions/3.9.12/lib/python3.9/site-packages (from pydantic<3,>=1.9.0->openai==1.27) (0.6.0)\n",
      "Requirement already satisfied: pydantic-core==2.16.2 in /Users/abecker/.pyenv/versions/3.9.12/lib/python3.9/site-packages (from pydantic<3,>=1.9.0->openai==1.27) (2.16.2)\n",
      "Requirement already satisfied: langchain==0.1.19 in /Users/abecker/.pyenv/versions/3.9.12/lib/python3.9/site-packages (0.1.19)\n",
      "Requirement already satisfied: PyYAML>=5.3 in /Users/abecker/.pyenv/versions/3.9.12/lib/python3.9/site-packages (from langchain==0.1.19) (6.0.1)\n",
      "Requirement already satisfied: SQLAlchemy<3,>=1.4 in /Users/abecker/.pyenv/versions/3.9.12/lib/python3.9/site-packages (from langchain==0.1.19) (2.0.30)\n",
      "Requirement already satisfied: aiohttp<4.0.0,>=3.8.3 in /Users/abecker/.pyenv/versions/3.9.12/lib/python3.9/site-packages (from langchain==0.1.19) (3.9.3)\n",
      "Requirement already satisfied: async-timeout<5.0.0,>=4.0.0 in /Users/abecker/.pyenv/versions/3.9.12/lib/python3.9/site-packages (from langchain==0.1.19) (4.0.3)\n",
      "Requirement already satisfied: dataclasses-json<0.7,>=0.5.7 in /Users/abecker/.pyenv/versions/3.9.12/lib/python3.9/site-packages (from langchain==0.1.19) (0.5.14)\n",
      "Requirement already satisfied: langchain-community<0.1,>=0.0.38 in /Users/abecker/.pyenv/versions/3.9.12/lib/python3.9/site-packages (from langchain==0.1.19) (0.0.38)\n",
      "Requirement already satisfied: langchain-core<0.2.0,>=0.1.52 in /Users/abecker/.pyenv/versions/3.9.12/lib/python3.9/site-packages (from langchain==0.1.19) (0.1.52)\n",
      "Requirement already satisfied: langchain-text-splitters<0.1,>=0.0.1 in /Users/abecker/.pyenv/versions/3.9.12/lib/python3.9/site-packages (from langchain==0.1.19) (0.0.2)\n",
      "Requirement already satisfied: langsmith<0.2.0,>=0.1.17 in /Users/abecker/.pyenv/versions/3.9.12/lib/python3.9/site-packages (from langchain==0.1.19) (0.1.65)\n",
      "Requirement already satisfied: numpy<2,>=1 in /Users/abecker/.pyenv/versions/3.9.12/lib/python3.9/site-packages (from langchain==0.1.19) (1.26.1)\n",
      "Requirement already satisfied: pydantic<3,>=1 in /Users/abecker/.pyenv/versions/3.9.12/lib/python3.9/site-packages (from langchain==0.1.19) (2.6.1)\n",
      "Requirement already satisfied: requests<3,>=2 in /Users/abecker/.pyenv/versions/3.9.12/lib/python3.9/site-packages (from langchain==0.1.19) (2.31.0)\n",
      "Requirement already satisfied: tenacity<9.0.0,>=8.1.0 in /Users/abecker/.pyenv/versions/3.9.12/lib/python3.9/site-packages (from langchain==0.1.19) (8.3.0)\n",
      "Requirement already satisfied: aiosignal>=1.1.2 in /Users/abecker/.pyenv/versions/3.9.12/lib/python3.9/site-packages (from aiohttp<4.0.0,>=3.8.3->langchain==0.1.19) (1.3.1)\n",
      "Requirement already satisfied: attrs>=17.3.0 in /Users/abecker/.pyenv/versions/3.9.12/lib/python3.9/site-packages (from aiohttp<4.0.0,>=3.8.3->langchain==0.1.19) (23.2.0)\n",
      "Requirement already satisfied: frozenlist>=1.1.1 in /Users/abecker/.pyenv/versions/3.9.12/lib/python3.9/site-packages (from aiohttp<4.0.0,>=3.8.3->langchain==0.1.19) (1.4.1)\n",
      "Requirement already satisfied: multidict<7.0,>=4.5 in /Users/abecker/.pyenv/versions/3.9.12/lib/python3.9/site-packages (from aiohttp<4.0.0,>=3.8.3->langchain==0.1.19) (6.0.5)\n",
      "Requirement already satisfied: yarl<2.0,>=1.0 in /Users/abecker/.pyenv/versions/3.9.12/lib/python3.9/site-packages (from aiohttp<4.0.0,>=3.8.3->langchain==0.1.19) (1.9.4)\n",
      "Requirement already satisfied: marshmallow<4.0.0,>=3.18.0 in /Users/abecker/.pyenv/versions/3.9.12/lib/python3.9/site-packages (from dataclasses-json<0.7,>=0.5.7->langchain==0.1.19) (3.21.2)\n",
      "Requirement already satisfied: typing-inspect<1,>=0.4.0 in /Users/abecker/.pyenv/versions/3.9.12/lib/python3.9/site-packages (from dataclasses-json<0.7,>=0.5.7->langchain==0.1.19) (0.9.0)\n",
      "Requirement already satisfied: jsonpatch<2.0,>=1.33 in /Users/abecker/.pyenv/versions/3.9.12/lib/python3.9/site-packages (from langchain-core<0.2.0,>=0.1.52->langchain==0.1.19) (1.33)\n",
      "Requirement already satisfied: packaging<24.0,>=23.2 in /Users/abecker/.pyenv/versions/3.9.12/lib/python3.9/site-packages (from langchain-core<0.2.0,>=0.1.52->langchain==0.1.19) (23.2)\n",
      "Requirement already satisfied: orjson<4.0.0,>=3.9.14 in /Users/abecker/.pyenv/versions/3.9.12/lib/python3.9/site-packages (from langsmith<0.2.0,>=0.1.17->langchain==0.1.19) (3.10.3)\n",
      "Requirement already satisfied: annotated-types>=0.4.0 in /Users/abecker/.pyenv/versions/3.9.12/lib/python3.9/site-packages (from pydantic<3,>=1->langchain==0.1.19) (0.6.0)\n",
      "Requirement already satisfied: pydantic-core==2.16.2 in /Users/abecker/.pyenv/versions/3.9.12/lib/python3.9/site-packages (from pydantic<3,>=1->langchain==0.1.19) (2.16.2)\n",
      "Requirement already satisfied: typing-extensions>=4.6.1 in /Users/abecker/.pyenv/versions/3.9.12/lib/python3.9/site-packages (from pydantic<3,>=1->langchain==0.1.19) (4.11.0)\n",
      "Requirement already satisfied: charset-normalizer<4,>=2 in /Users/abecker/.pyenv/versions/3.9.12/lib/python3.9/site-packages (from requests<3,>=2->langchain==0.1.19) (3.3.0)\n",
      "Requirement already satisfied: idna<4,>=2.5 in /Users/abecker/.pyenv/versions/3.9.12/lib/python3.9/site-packages (from requests<3,>=2->langchain==0.1.19) (3.4)\n",
      "Requirement already satisfied: urllib3<3,>=1.21.1 in /Users/abecker/.pyenv/versions/3.9.12/lib/python3.9/site-packages (from requests<3,>=2->langchain==0.1.19) (2.0.6)\n",
      "Requirement already satisfied: certifi>=2017.4.17 in /Users/abecker/.pyenv/versions/3.9.12/lib/python3.9/site-packages (from requests<3,>=2->langchain==0.1.19) (2023.7.22)\n",
      "Requirement already satisfied: jsonpointer>=1.9 in /Users/abecker/.pyenv/versions/3.9.12/lib/python3.9/site-packages (from jsonpatch<2.0,>=1.33->langchain-core<0.2.0,>=0.1.52->langchain==0.1.19) (2.4)\n",
      "Requirement already satisfied: mypy-extensions>=0.3.0 in /Users/abecker/.pyenv/versions/3.9.12/lib/python3.9/site-packages (from typing-inspect<1,>=0.4.0->dataclasses-json<0.7,>=0.5.7->langchain==0.1.19) (1.0.0)\n",
      "Requirement already satisfied: langchain-openai==0.1.6 in /Users/abecker/.pyenv/versions/3.9.12/lib/python3.9/site-packages (0.1.6)\n",
      "Requirement already satisfied: langchain-core<0.2.0,>=0.1.46 in /Users/abecker/.pyenv/versions/3.9.12/lib/python3.9/site-packages (from langchain-openai==0.1.6) (0.1.52)\n",
      "Requirement already satisfied: openai<2.0.0,>=1.24.0 in /Users/abecker/.pyenv/versions/3.9.12/lib/python3.9/site-packages (from langchain-openai==0.1.6) (1.27.0)\n",
      "Requirement already satisfied: tiktoken<1,>=0.5.2 in /Users/abecker/.pyenv/versions/3.9.12/lib/python3.9/site-packages (from langchain-openai==0.1.6) (0.7.0)\n",
      "Requirement already satisfied: PyYAML>=5.3 in /Users/abecker/.pyenv/versions/3.9.12/lib/python3.9/site-packages (from langchain-core<0.2.0,>=0.1.46->langchain-openai==0.1.6) (6.0.1)\n",
      "Requirement already satisfied: jsonpatch<2.0,>=1.33 in /Users/abecker/.pyenv/versions/3.9.12/lib/python3.9/site-packages (from langchain-core<0.2.0,>=0.1.46->langchain-openai==0.1.6) (1.33)\n",
      "Requirement already satisfied: langsmith<0.2.0,>=0.1.0 in /Users/abecker/.pyenv/versions/3.9.12/lib/python3.9/site-packages (from langchain-core<0.2.0,>=0.1.46->langchain-openai==0.1.6) (0.1.65)\n",
      "Requirement already satisfied: packaging<24.0,>=23.2 in /Users/abecker/.pyenv/versions/3.9.12/lib/python3.9/site-packages (from langchain-core<0.2.0,>=0.1.46->langchain-openai==0.1.6) (23.2)\n",
      "Requirement already satisfied: pydantic<3,>=1 in /Users/abecker/.pyenv/versions/3.9.12/lib/python3.9/site-packages (from langchain-core<0.2.0,>=0.1.46->langchain-openai==0.1.6) (2.6.1)\n",
      "Requirement already satisfied: tenacity<9.0.0,>=8.1.0 in /Users/abecker/.pyenv/versions/3.9.12/lib/python3.9/site-packages (from langchain-core<0.2.0,>=0.1.46->langchain-openai==0.1.6) (8.3.0)\n",
      "Requirement already satisfied: anyio<5,>=3.5.0 in /Users/abecker/.pyenv/versions/3.9.12/lib/python3.9/site-packages (from openai<2.0.0,>=1.24.0->langchain-openai==0.1.6) (4.2.0)\n",
      "Requirement already satisfied: distro<2,>=1.7.0 in /Users/abecker/.pyenv/versions/3.9.12/lib/python3.9/site-packages (from openai<2.0.0,>=1.24.0->langchain-openai==0.1.6) (1.9.0)\n",
      "Requirement already satisfied: httpx<1,>=0.23.0 in /Users/abecker/.pyenv/versions/3.9.12/lib/python3.9/site-packages (from openai<2.0.0,>=1.24.0->langchain-openai==0.1.6) (0.27.0)\n",
      "Requirement already satisfied: sniffio in /Users/abecker/.pyenv/versions/3.9.12/lib/python3.9/site-packages (from openai<2.0.0,>=1.24.0->langchain-openai==0.1.6) (1.3.0)\n",
      "Requirement already satisfied: tqdm>4 in /Users/abecker/.pyenv/versions/3.9.12/lib/python3.9/site-packages (from openai<2.0.0,>=1.24.0->langchain-openai==0.1.6) (4.66.1)\n",
      "Requirement already satisfied: typing-extensions<5,>=4.7 in /Users/abecker/.pyenv/versions/3.9.12/lib/python3.9/site-packages (from openai<2.0.0,>=1.24.0->langchain-openai==0.1.6) (4.11.0)\n",
      "Requirement already satisfied: regex>=2022.1.18 in /Users/abecker/.pyenv/versions/3.9.12/lib/python3.9/site-packages (from tiktoken<1,>=0.5.2->langchain-openai==0.1.6) (2023.10.3)\n",
      "Requirement already satisfied: requests>=2.26.0 in /Users/abecker/.pyenv/versions/3.9.12/lib/python3.9/site-packages (from tiktoken<1,>=0.5.2->langchain-openai==0.1.6) (2.31.0)\n",
      "Requirement already satisfied: idna>=2.8 in /Users/abecker/.pyenv/versions/3.9.12/lib/python3.9/site-packages (from anyio<5,>=3.5.0->openai<2.0.0,>=1.24.0->langchain-openai==0.1.6) (3.4)\n",
      "Requirement already satisfied: exceptiongroup>=1.0.2 in /Users/abecker/.pyenv/versions/3.9.12/lib/python3.9/site-packages (from anyio<5,>=3.5.0->openai<2.0.0,>=1.24.0->langchain-openai==0.1.6) (1.1.3)\n",
      "Requirement already satisfied: certifi in /Users/abecker/.pyenv/versions/3.9.12/lib/python3.9/site-packages (from httpx<1,>=0.23.0->openai<2.0.0,>=1.24.0->langchain-openai==0.1.6) (2023.7.22)\n",
      "Requirement already satisfied: httpcore==1.* in /Users/abecker/.pyenv/versions/3.9.12/lib/python3.9/site-packages (from httpx<1,>=0.23.0->openai<2.0.0,>=1.24.0->langchain-openai==0.1.6) (1.0.4)\n",
      "Requirement already satisfied: h11<0.15,>=0.13 in /Users/abecker/.pyenv/versions/3.9.12/lib/python3.9/site-packages (from httpcore==1.*->httpx<1,>=0.23.0->openai<2.0.0,>=1.24.0->langchain-openai==0.1.6) (0.14.0)\n",
      "Requirement already satisfied: jsonpointer>=1.9 in /Users/abecker/.pyenv/versions/3.9.12/lib/python3.9/site-packages (from jsonpatch<2.0,>=1.33->langchain-core<0.2.0,>=0.1.46->langchain-openai==0.1.6) (2.4)\n",
      "Requirement already satisfied: orjson<4.0.0,>=3.9.14 in /Users/abecker/.pyenv/versions/3.9.12/lib/python3.9/site-packages (from langsmith<0.2.0,>=0.1.0->langchain-core<0.2.0,>=0.1.46->langchain-openai==0.1.6) (3.10.3)\n",
      "Requirement already satisfied: annotated-types>=0.4.0 in /Users/abecker/.pyenv/versions/3.9.12/lib/python3.9/site-packages (from pydantic<3,>=1->langchain-core<0.2.0,>=0.1.46->langchain-openai==0.1.6) (0.6.0)\n",
      "Requirement already satisfied: pydantic-core==2.16.2 in /Users/abecker/.pyenv/versions/3.9.12/lib/python3.9/site-packages (from pydantic<3,>=1->langchain-core<0.2.0,>=0.1.46->langchain-openai==0.1.6) (2.16.2)\n",
      "Requirement already satisfied: charset-normalizer<4,>=2 in /Users/abecker/.pyenv/versions/3.9.12/lib/python3.9/site-packages (from requests>=2.26.0->tiktoken<1,>=0.5.2->langchain-openai==0.1.6) (3.3.0)\n",
      "Requirement already satisfied: urllib3<3,>=1.21.1 in /Users/abecker/.pyenv/versions/3.9.12/lib/python3.9/site-packages (from requests>=2.26.0->tiktoken<1,>=0.5.2->langchain-openai==0.1.6) (2.0.6)\n",
      "Requirement already satisfied: typing_extensions==4.11.0 in /Users/abecker/.pyenv/versions/3.9.12/lib/python3.9/site-packages (4.11.0)\n"
     ]
    }
   ],
   "source": [
    "# Install the openai package, locked to version 1.27\n",
    "!pip install openai==1.27\n",
    "\n",
    "# Install the langchain package, locked to version 0.1.19\n",
    "!pip install langchain==0.1.19\n",
    "\n",
    "# Install the langchain-openai package, locked to version 0.1.6\n",
    "!pip install langchain-openai==0.1.6\n",
    "\n",
    "# Update the typing_extensions package, locked to version 4.11.0\n",
    "!pip install typing_extensions==4.11.0"
   ]
  },
  {
   "cell_type": "code",
   "execution_count": 26,
   "id": "a7266c67-241c-41ed-add7-b6da22cacfb9",
   "metadata": {
    "scrolled": true
   },
   "outputs": [
    {
     "name": "stdout",
     "output_type": "stream",
     "text": [
      "Collecting openai==1.27\n",
      "  Using cached openai-1.27.0-py3-none-any.whl.metadata (21 kB)\n",
      "Requirement already satisfied: langchain==0.1.19 in /Users/abecker/.pyenv/versions/3.9.12/lib/python3.9/site-packages (0.1.19)\n",
      "Requirement already satisfied: langchain-openai==0.1.6 in /Users/abecker/.pyenv/versions/3.9.12/lib/python3.9/site-packages (0.1.6)\n",
      "Requirement already satisfied: typing_extensions==4.11.0 in /Users/abecker/.pyenv/versions/3.9.12/lib/python3.9/site-packages (4.11.0)\n",
      "Requirement already satisfied: anyio<5,>=3.5.0 in /Users/abecker/.pyenv/versions/3.9.12/lib/python3.9/site-packages (from openai==1.27) (4.2.0)\n",
      "Requirement already satisfied: distro<2,>=1.7.0 in /Users/abecker/.pyenv/versions/3.9.12/lib/python3.9/site-packages (from openai==1.27) (1.9.0)\n",
      "Requirement already satisfied: httpx<1,>=0.23.0 in /Users/abecker/.pyenv/versions/3.9.12/lib/python3.9/site-packages (from openai==1.27) (0.27.0)\n",
      "Requirement already satisfied: pydantic<3,>=1.9.0 in /Users/abecker/.pyenv/versions/3.9.12/lib/python3.9/site-packages (from openai==1.27) (2.6.1)\n",
      "Requirement already satisfied: sniffio in /Users/abecker/.pyenv/versions/3.9.12/lib/python3.9/site-packages (from openai==1.27) (1.3.0)\n",
      "Requirement already satisfied: tqdm>4 in /Users/abecker/.pyenv/versions/3.9.12/lib/python3.9/site-packages (from openai==1.27) (4.66.1)\n",
      "Requirement already satisfied: PyYAML>=5.3 in /Users/abecker/.pyenv/versions/3.9.12/lib/python3.9/site-packages (from langchain==0.1.19) (6.0.1)\n",
      "Requirement already satisfied: SQLAlchemy<3,>=1.4 in /Users/abecker/.pyenv/versions/3.9.12/lib/python3.9/site-packages (from langchain==0.1.19) (2.0.30)\n",
      "Requirement already satisfied: aiohttp<4.0.0,>=3.8.3 in /Users/abecker/.pyenv/versions/3.9.12/lib/python3.9/site-packages (from langchain==0.1.19) (3.9.3)\n",
      "Requirement already satisfied: async-timeout<5.0.0,>=4.0.0 in /Users/abecker/.pyenv/versions/3.9.12/lib/python3.9/site-packages (from langchain==0.1.19) (4.0.3)\n",
      "Requirement already satisfied: dataclasses-json<0.7,>=0.5.7 in /Users/abecker/.pyenv/versions/3.9.12/lib/python3.9/site-packages (from langchain==0.1.19) (0.5.14)\n",
      "Requirement already satisfied: langchain-community<0.1,>=0.0.38 in /Users/abecker/.pyenv/versions/3.9.12/lib/python3.9/site-packages (from langchain==0.1.19) (0.0.38)\n",
      "Requirement already satisfied: langchain-core<0.2.0,>=0.1.52 in /Users/abecker/.pyenv/versions/3.9.12/lib/python3.9/site-packages (from langchain==0.1.19) (0.1.52)\n",
      "Requirement already satisfied: langchain-text-splitters<0.1,>=0.0.1 in /Users/abecker/.pyenv/versions/3.9.12/lib/python3.9/site-packages (from langchain==0.1.19) (0.0.2)\n",
      "Requirement already satisfied: langsmith<0.2.0,>=0.1.17 in /Users/abecker/.pyenv/versions/3.9.12/lib/python3.9/site-packages (from langchain==0.1.19) (0.1.65)\n",
      "Requirement already satisfied: numpy<2,>=1 in /Users/abecker/.pyenv/versions/3.9.12/lib/python3.9/site-packages (from langchain==0.1.19) (1.26.1)\n",
      "Requirement already satisfied: requests<3,>=2 in /Users/abecker/.pyenv/versions/3.9.12/lib/python3.9/site-packages (from langchain==0.1.19) (2.31.0)\n",
      "Requirement already satisfied: tenacity<9.0.0,>=8.1.0 in /Users/abecker/.pyenv/versions/3.9.12/lib/python3.9/site-packages (from langchain==0.1.19) (8.3.0)\n",
      "Requirement already satisfied: tiktoken<1,>=0.5.2 in /Users/abecker/.pyenv/versions/3.9.12/lib/python3.9/site-packages (from langchain-openai==0.1.6) (0.7.0)\n",
      "Requirement already satisfied: aiosignal>=1.1.2 in /Users/abecker/.pyenv/versions/3.9.12/lib/python3.9/site-packages (from aiohttp<4.0.0,>=3.8.3->langchain==0.1.19) (1.3.1)\n",
      "Requirement already satisfied: attrs>=17.3.0 in /Users/abecker/.pyenv/versions/3.9.12/lib/python3.9/site-packages (from aiohttp<4.0.0,>=3.8.3->langchain==0.1.19) (23.2.0)\n",
      "Requirement already satisfied: frozenlist>=1.1.1 in /Users/abecker/.pyenv/versions/3.9.12/lib/python3.9/site-packages (from aiohttp<4.0.0,>=3.8.3->langchain==0.1.19) (1.4.1)\n",
      "Requirement already satisfied: multidict<7.0,>=4.5 in /Users/abecker/.pyenv/versions/3.9.12/lib/python3.9/site-packages (from aiohttp<4.0.0,>=3.8.3->langchain==0.1.19) (6.0.5)\n",
      "Requirement already satisfied: yarl<2.0,>=1.0 in /Users/abecker/.pyenv/versions/3.9.12/lib/python3.9/site-packages (from aiohttp<4.0.0,>=3.8.3->langchain==0.1.19) (1.9.4)\n",
      "Requirement already satisfied: idna>=2.8 in /Users/abecker/.pyenv/versions/3.9.12/lib/python3.9/site-packages (from anyio<5,>=3.5.0->openai==1.27) (3.4)\n",
      "Requirement already satisfied: exceptiongroup>=1.0.2 in /Users/abecker/.pyenv/versions/3.9.12/lib/python3.9/site-packages (from anyio<5,>=3.5.0->openai==1.27) (1.1.3)\n",
      "Requirement already satisfied: marshmallow<4.0.0,>=3.18.0 in /Users/abecker/.pyenv/versions/3.9.12/lib/python3.9/site-packages (from dataclasses-json<0.7,>=0.5.7->langchain==0.1.19) (3.21.2)\n",
      "Requirement already satisfied: typing-inspect<1,>=0.4.0 in /Users/abecker/.pyenv/versions/3.9.12/lib/python3.9/site-packages (from dataclasses-json<0.7,>=0.5.7->langchain==0.1.19) (0.9.0)\n",
      "Requirement already satisfied: certifi in /Users/abecker/.pyenv/versions/3.9.12/lib/python3.9/site-packages (from httpx<1,>=0.23.0->openai==1.27) (2023.7.22)\n",
      "Requirement already satisfied: httpcore==1.* in /Users/abecker/.pyenv/versions/3.9.12/lib/python3.9/site-packages (from httpx<1,>=0.23.0->openai==1.27) (1.0.4)\n",
      "Requirement already satisfied: h11<0.15,>=0.13 in /Users/abecker/.pyenv/versions/3.9.12/lib/python3.9/site-packages (from httpcore==1.*->httpx<1,>=0.23.0->openai==1.27) (0.14.0)\n",
      "Requirement already satisfied: jsonpatch<2.0,>=1.33 in /Users/abecker/.pyenv/versions/3.9.12/lib/python3.9/site-packages (from langchain-core<0.2.0,>=0.1.52->langchain==0.1.19) (1.33)\n",
      "Requirement already satisfied: packaging<24.0,>=23.2 in /Users/abecker/.pyenv/versions/3.9.12/lib/python3.9/site-packages (from langchain-core<0.2.0,>=0.1.52->langchain==0.1.19) (23.2)\n",
      "Requirement already satisfied: orjson<4.0.0,>=3.9.14 in /Users/abecker/.pyenv/versions/3.9.12/lib/python3.9/site-packages (from langsmith<0.2.0,>=0.1.17->langchain==0.1.19) (3.10.3)\n",
      "Requirement already satisfied: annotated-types>=0.4.0 in /Users/abecker/.pyenv/versions/3.9.12/lib/python3.9/site-packages (from pydantic<3,>=1.9.0->openai==1.27) (0.6.0)\n",
      "Requirement already satisfied: pydantic-core==2.16.2 in /Users/abecker/.pyenv/versions/3.9.12/lib/python3.9/site-packages (from pydantic<3,>=1.9.0->openai==1.27) (2.16.2)\n",
      "Requirement already satisfied: charset-normalizer<4,>=2 in /Users/abecker/.pyenv/versions/3.9.12/lib/python3.9/site-packages (from requests<3,>=2->langchain==0.1.19) (3.3.0)\n",
      "Requirement already satisfied: urllib3<3,>=1.21.1 in /Users/abecker/.pyenv/versions/3.9.12/lib/python3.9/site-packages (from requests<3,>=2->langchain==0.1.19) (2.0.6)\n",
      "Requirement already satisfied: regex>=2022.1.18 in /Users/abecker/.pyenv/versions/3.9.12/lib/python3.9/site-packages (from tiktoken<1,>=0.5.2->langchain-openai==0.1.6) (2023.10.3)\n",
      "Requirement already satisfied: jsonpointer>=1.9 in /Users/abecker/.pyenv/versions/3.9.12/lib/python3.9/site-packages (from jsonpatch<2.0,>=1.33->langchain-core<0.2.0,>=0.1.52->langchain==0.1.19) (2.4)\n",
      "Requirement already satisfied: mypy-extensions>=0.3.0 in /Users/abecker/.pyenv/versions/3.9.12/lib/python3.9/site-packages (from typing-inspect<1,>=0.4.0->dataclasses-json<0.7,>=0.5.7->langchain==0.1.19) (1.0.0)\n",
      "Using cached openai-1.27.0-py3-none-any.whl (314 kB)\n",
      "Installing collected packages: openai\n",
      "  Attempting uninstall: openai\n",
      "    Found existing installation: openai 1.34.0\n",
      "    Uninstalling openai-1.34.0:\n",
      "      Successfully uninstalled openai-1.34.0\n",
      "Successfully installed openai-1.27.0\n"
     ]
    }
   ],
   "source": [
    "!pip install openai==1.27 langchain==0.1.19 langchain-openai==0.1.6 typing_extensions==4.11.0\n"
   ]
  },
  {
   "cell_type": "markdown",
   "id": "548dd561-bee0-4e14-9170-1a7655e694d8",
   "metadata": {},
   "source": [
    "## Import necessary packages and dataset"
   ]
  },
  {
   "cell_type": "code",
   "execution_count": 54,
   "id": "4108c945-d10b-4b8a-bf88-518a49eecd1e",
   "metadata": {},
   "outputs": [],
   "source": [
    "import os\n",
    "import openai\n",
    "import pandas as pd\n",
    "import plotly.express as px\n",
    "import plotly.express as px\n",
    "from langchain_openai import OpenAI, ChatOpenAI\n",
    "from langchain.schema import AIMessage, HumanMessage, SystemMessage\n",
    "from IPython.display import display, Markdown\n",
    "\n",
    "\n",
    "# Set the OpenAI API key from environment variables\n",
    "# Put your key in ''\n",
    "os.environ['OPENAI_API_KEY'] = ''\n",
    "openai.api_key = os.getenv('OPENAI_API_KEY')\n"
   ]
  },
  {
   "cell_type": "code",
   "execution_count": 42,
   "id": "e3eeda74-f7ae-494c-8f94-482ec6efa019",
   "metadata": {},
   "outputs": [
    {
     "name": "stdout",
     "output_type": "stream",
     "text": [
      "Description of numeric columns\n",
      "\n"
     ]
    },
    {
     "data": {
      "text/html": [
       "<div>\n",
       "<style scoped>\n",
       "    .dataframe tbody tr th:only-of-type {\n",
       "        vertical-align: middle;\n",
       "    }\n",
       "\n",
       "    .dataframe tbody tr th {\n",
       "        vertical-align: top;\n",
       "    }\n",
       "\n",
       "    .dataframe thead th {\n",
       "        text-align: right;\n",
       "    }\n",
       "</style>\n",
       "<table border=\"1\" class=\"dataframe\">\n",
       "  <thead>\n",
       "    <tr style=\"text-align: right;\">\n",
       "      <th></th>\n",
       "      <th>model_year</th>\n",
       "      <th>n_cars</th>\n",
       "    </tr>\n",
       "  </thead>\n",
       "  <tbody>\n",
       "    <tr>\n",
       "      <th>count</th>\n",
       "      <td>26813.000000</td>\n",
       "      <td>26813.000000</td>\n",
       "    </tr>\n",
       "    <tr>\n",
       "      <th>mean</th>\n",
       "      <td>2019.375527</td>\n",
       "      <td>5.612166</td>\n",
       "    </tr>\n",
       "    <tr>\n",
       "      <th>std</th>\n",
       "      <td>3.286257</td>\n",
       "      <td>26.997325</td>\n",
       "    </tr>\n",
       "    <tr>\n",
       "      <th>min</th>\n",
       "      <td>1997.000000</td>\n",
       "      <td>1.000000</td>\n",
       "    </tr>\n",
       "    <tr>\n",
       "      <th>25%</th>\n",
       "      <td>2017.000000</td>\n",
       "      <td>1.000000</td>\n",
       "    </tr>\n",
       "    <tr>\n",
       "      <th>50%</th>\n",
       "      <td>2020.000000</td>\n",
       "      <td>2.000000</td>\n",
       "    </tr>\n",
       "    <tr>\n",
       "      <th>75%</th>\n",
       "      <td>2022.000000</td>\n",
       "      <td>4.000000</td>\n",
       "    </tr>\n",
       "    <tr>\n",
       "      <th>max</th>\n",
       "      <td>2024.000000</td>\n",
       "      <td>1514.000000</td>\n",
       "    </tr>\n",
       "  </tbody>\n",
       "</table>\n",
       "</div>"
      ],
      "text/plain": [
       "         model_year        n_cars\n",
       "count  26813.000000  26813.000000\n",
       "mean    2019.375527      5.612166\n",
       "std        3.286257     26.997325\n",
       "min     1997.000000      1.000000\n",
       "25%     2017.000000      1.000000\n",
       "50%     2020.000000      2.000000\n",
       "75%     2022.000000      4.000000\n",
       "max     2024.000000   1514.000000"
      ]
     },
     "metadata": {},
     "output_type": "display_data"
    },
    {
     "name": "stdout",
     "output_type": "stream",
     "text": [
      "Description of text columns\n",
      "\n"
     ]
    },
    {
     "data": {
      "text/html": [
       "<div>\n",
       "<style scoped>\n",
       "    .dataframe tbody tr th:only-of-type {\n",
       "        vertical-align: middle;\n",
       "    }\n",
       "\n",
       "    .dataframe tbody tr th {\n",
       "        vertical-align: top;\n",
       "    }\n",
       "\n",
       "    .dataframe thead th {\n",
       "        text-align: right;\n",
       "    }\n",
       "</style>\n",
       "<table border=\"1\" class=\"dataframe\">\n",
       "  <thead>\n",
       "    <tr style=\"text-align: right;\">\n",
       "      <th></th>\n",
       "      <th>city</th>\n",
       "      <th>county</th>\n",
       "      <th>make</th>\n",
       "      <th>model</th>\n",
       "      <th>electric_vehicle_type</th>\n",
       "    </tr>\n",
       "  </thead>\n",
       "  <tbody>\n",
       "    <tr>\n",
       "      <th>count</th>\n",
       "      <td>26813</td>\n",
       "      <td>26813</td>\n",
       "      <td>26813</td>\n",
       "      <td>26813</td>\n",
       "      <td>26813</td>\n",
       "    </tr>\n",
       "    <tr>\n",
       "      <th>unique</th>\n",
       "      <td>683</td>\n",
       "      <td>183</td>\n",
       "      <td>37</td>\n",
       "      <td>127</td>\n",
       "      <td>2</td>\n",
       "    </tr>\n",
       "    <tr>\n",
       "      <th>top</th>\n",
       "      <td>Bothell</td>\n",
       "      <td>King</td>\n",
       "      <td>TESLA</td>\n",
       "      <td>LEAF</td>\n",
       "      <td>Battery Electric Vehicle (BEV)</td>\n",
       "    </tr>\n",
       "    <tr>\n",
       "      <th>freq</th>\n",
       "      <td>479</td>\n",
       "      <td>7066</td>\n",
       "      <td>5071</td>\n",
       "      <td>1889</td>\n",
       "      <td>15885</td>\n",
       "    </tr>\n",
       "  </tbody>\n",
       "</table>\n",
       "</div>"
      ],
      "text/plain": [
       "           city county   make  model           electric_vehicle_type\n",
       "count     26813  26813  26813  26813                           26813\n",
       "unique      683    183     37    127                               2\n",
       "top     Bothell   King  TESLA   LEAF  Battery Electric Vehicle (BEV)\n",
       "freq        479   7066   5071   1889                           15885"
      ]
     },
     "metadata": {},
     "output_type": "display_data"
    },
    {
     "name": "stdout",
     "output_type": "stream",
     "text": [
      "The electric cars dataset\n",
      "\n"
     ]
    },
    {
     "data": {
      "text/html": [
       "<div>\n",
       "<style scoped>\n",
       "    .dataframe tbody tr th:only-of-type {\n",
       "        vertical-align: middle;\n",
       "    }\n",
       "\n",
       "    .dataframe tbody tr th {\n",
       "        vertical-align: top;\n",
       "    }\n",
       "\n",
       "    .dataframe thead th {\n",
       "        text-align: right;\n",
       "    }\n",
       "</style>\n",
       "<table border=\"1\" class=\"dataframe\">\n",
       "  <thead>\n",
       "    <tr style=\"text-align: right;\">\n",
       "      <th></th>\n",
       "      <th>city</th>\n",
       "      <th>county</th>\n",
       "      <th>model_year</th>\n",
       "      <th>make</th>\n",
       "      <th>model</th>\n",
       "      <th>electric_vehicle_type</th>\n",
       "      <th>n_cars</th>\n",
       "    </tr>\n",
       "  </thead>\n",
       "  <tbody>\n",
       "    <tr>\n",
       "      <th>0</th>\n",
       "      <td>Seattle</td>\n",
       "      <td>King</td>\n",
       "      <td>2023</td>\n",
       "      <td>TESLA</td>\n",
       "      <td>MODEL Y</td>\n",
       "      <td>Battery Electric Vehicle (BEV)</td>\n",
       "      <td>1514</td>\n",
       "    </tr>\n",
       "    <tr>\n",
       "      <th>1</th>\n",
       "      <td>Seattle</td>\n",
       "      <td>King</td>\n",
       "      <td>2018</td>\n",
       "      <td>TESLA</td>\n",
       "      <td>MODEL 3</td>\n",
       "      <td>Battery Electric Vehicle (BEV)</td>\n",
       "      <td>1153</td>\n",
       "    </tr>\n",
       "    <tr>\n",
       "      <th>2</th>\n",
       "      <td>Seattle</td>\n",
       "      <td>King</td>\n",
       "      <td>2021</td>\n",
       "      <td>TESLA</td>\n",
       "      <td>MODEL Y</td>\n",
       "      <td>Battery Electric Vehicle (BEV)</td>\n",
       "      <td>1147</td>\n",
       "    </tr>\n",
       "    <tr>\n",
       "      <th>3</th>\n",
       "      <td>Seattle</td>\n",
       "      <td>King</td>\n",
       "      <td>2022</td>\n",
       "      <td>TESLA</td>\n",
       "      <td>MODEL Y</td>\n",
       "      <td>Battery Electric Vehicle (BEV)</td>\n",
       "      <td>1122</td>\n",
       "    </tr>\n",
       "    <tr>\n",
       "      <th>4</th>\n",
       "      <td>Bellevue</td>\n",
       "      <td>King</td>\n",
       "      <td>2023</td>\n",
       "      <td>TESLA</td>\n",
       "      <td>MODEL Y</td>\n",
       "      <td>Battery Electric Vehicle (BEV)</td>\n",
       "      <td>931</td>\n",
       "    </tr>\n",
       "    <tr>\n",
       "      <th>...</th>\n",
       "      <td>...</td>\n",
       "      <td>...</td>\n",
       "      <td>...</td>\n",
       "      <td>...</td>\n",
       "      <td>...</td>\n",
       "      <td>...</td>\n",
       "      <td>...</td>\n",
       "    </tr>\n",
       "    <tr>\n",
       "      <th>26808</th>\n",
       "      <td>Lakewood</td>\n",
       "      <td>Pierce</td>\n",
       "      <td>2022</td>\n",
       "      <td>BMW</td>\n",
       "      <td>IX</td>\n",
       "      <td>Battery Electric Vehicle (BEV)</td>\n",
       "      <td>1</td>\n",
       "    </tr>\n",
       "    <tr>\n",
       "      <th>26809</th>\n",
       "      <td>Lakewood</td>\n",
       "      <td>Pierce</td>\n",
       "      <td>2022</td>\n",
       "      <td>BMW</td>\n",
       "      <td>X5</td>\n",
       "      <td>Plug-in Hybrid Electric Vehicle (PHEV)</td>\n",
       "      <td>1</td>\n",
       "    </tr>\n",
       "    <tr>\n",
       "      <th>26810</th>\n",
       "      <td>Lakewood</td>\n",
       "      <td>Pierce</td>\n",
       "      <td>2022</td>\n",
       "      <td>FORD</td>\n",
       "      <td>TRANSIT</td>\n",
       "      <td>Battery Electric Vehicle (BEV)</td>\n",
       "      <td>1</td>\n",
       "    </tr>\n",
       "    <tr>\n",
       "      <th>26811</th>\n",
       "      <td>Lakewood</td>\n",
       "      <td>Pierce</td>\n",
       "      <td>2022</td>\n",
       "      <td>HYUNDAI</td>\n",
       "      <td>KONA ELECTRIC</td>\n",
       "      <td>Battery Electric Vehicle (BEV)</td>\n",
       "      <td>1</td>\n",
       "    </tr>\n",
       "    <tr>\n",
       "      <th>26812</th>\n",
       "      <td>Zillah</td>\n",
       "      <td>Yakima</td>\n",
       "      <td>2023</td>\n",
       "      <td>VOLKSWAGEN</td>\n",
       "      <td>ID.4</td>\n",
       "      <td>Battery Electric Vehicle (BEV)</td>\n",
       "      <td>1</td>\n",
       "    </tr>\n",
       "  </tbody>\n",
       "</table>\n",
       "<p>26813 rows × 7 columns</p>\n",
       "</div>"
      ],
      "text/plain": [
       "           city  county  model_year        make          model  \\\n",
       "0       Seattle    King        2023       TESLA        MODEL Y   \n",
       "1       Seattle    King        2018       TESLA        MODEL 3   \n",
       "2       Seattle    King        2021       TESLA        MODEL Y   \n",
       "3       Seattle    King        2022       TESLA        MODEL Y   \n",
       "4      Bellevue    King        2023       TESLA        MODEL Y   \n",
       "...         ...     ...         ...         ...            ...   \n",
       "26808  Lakewood  Pierce        2022         BMW             IX   \n",
       "26809  Lakewood  Pierce        2022         BMW             X5   \n",
       "26810  Lakewood  Pierce        2022        FORD        TRANSIT   \n",
       "26811  Lakewood  Pierce        2022     HYUNDAI  KONA ELECTRIC   \n",
       "26812    Zillah  Yakima        2023  VOLKSWAGEN           ID.4   \n",
       "\n",
       "                        electric_vehicle_type  n_cars  \n",
       "0              Battery Electric Vehicle (BEV)    1514  \n",
       "1              Battery Electric Vehicle (BEV)    1153  \n",
       "2              Battery Electric Vehicle (BEV)    1147  \n",
       "3              Battery Electric Vehicle (BEV)    1122  \n",
       "4              Battery Electric Vehicle (BEV)     931  \n",
       "...                                       ...     ...  \n",
       "26808          Battery Electric Vehicle (BEV)       1  \n",
       "26809  Plug-in Hybrid Electric Vehicle (PHEV)       1  \n",
       "26810          Battery Electric Vehicle (BEV)       1  \n",
       "26811          Battery Electric Vehicle (BEV)       1  \n",
       "26812          Battery Electric Vehicle (BEV)       1  \n",
       "\n",
       "[26813 rows x 7 columns]"
      ]
     },
     "execution_count": 42,
     "metadata": {},
     "output_type": "execute_result"
    }
   ],
   "source": [
    "# Read the data from electric_cars.csv. Assign to electric_cars.\n",
    "electric_cars = pd.read_csv(\"electric_cars.csv\")\n",
    "\n",
    "# Display a description of the numeric columns\n",
    "print(\"Description of numeric columns\\n\")\n",
    "display(electric_cars.describe())\n",
    "\n",
    "# Display a description of the text (object) columns\n",
    "print(\"Description of text columns\\n\")\n",
    "display(electric_cars.describe(include=\"O\"))\n",
    "\n",
    "# Print the whole dataset\n",
    "print(\"The electric cars dataset\\n\")\n",
    "electric_cars"
   ]
  },
  {
   "cell_type": "markdown",
   "id": "2df24104-a549-47c6-b710-04b0a0c5d478",
   "metadata": {},
   "source": [
    "## Step 2: The code sets up the necessary environment variables, defines system and user messages, and creates an OpenAI client for sending messages to GPT."
   ]
  },
  {
   "cell_type": "code",
   "execution_count": 44,
   "id": "acae61b5-ff5b-4ee2-ba3f-47c500c78772",
   "metadata": {},
   "outputs": [],
   "source": [
    "# A description of the dataset\n",
    "dataset_description = \"\"\"\n",
    "You have a dataset about electric cars registered in Washington state, USA in 2020. It is available as a pandas DataFrame named `electric_cars`.\n",
    "\n",
    "Each row in the dataset represents the count of the number of cars registered within a city, for a particular model.\n",
    "\n",
    "The dataset contains the following columns.\n",
    "\n",
    "- `city` (character): The city in which the registered owner resides.\n",
    "- `county` (character): The county in which the registered owner resides.\n",
    "- `model_year` (integer): The [model year](https://en.wikipedia.org/wiki/Model_year#United_States_and_Canada) of the car.\n",
    "- `make` (character): The manufacturer of the car.\n",
    "- `model` (character): The model of the car.\n",
    "- `electric_vehicle_type` (character): Either \"Plug-in Hybrid Electric Vehicle (PHEV)\" or \"Battery Electric Vehicle (BEV)\".\n",
    "- `n_cars` (integer): The count of the number of vehicles registered.\n",
    "\"\"\"\n",
    "\n",
    "# Create a task for the AI\n",
    "suggest_questions = \"Suggest some data analysis questions that could be answered with this dataset.\"\n"
   ]
  },
  {
   "cell_type": "code",
   "execution_count": 33,
   "id": "8a460043-f5ae-4774-a16a-996972ebcb5c",
   "metadata": {},
   "outputs": [
    {
     "name": "stdout",
     "output_type": "stream",
     "text": [
      "The whole response\n",
      "\n",
      "content='1. What is the total number of electric cars registered in Washington state in 2020?\\n2. Which city has the highest number of electric cars registered? \\n3. Which county has the highest number of electric cars registered?\\n4. What is the most common model year of the electric cars registered? \\n5. Which make and model of electric car is the most popular in Washington state? \\n6. Which type of electric vehicle, either \"Plug-in Hybrid Electric Vehicle (PHEV)\" or \"Battery Electric Vehicle (BEV)\", is more popular in Washington state?\\n7. Are there certain cities or counties that prefer one type of electric vehicle over the other?\\n8. Are there any patterns or trends in the data that might suggest future growth or decline in electric car registrations?\\n9. Are there any correlations between the city or county and the make or model of the car? \\n10. What is the average number of cars per city or per county? \\n11. Are there certain makes or models of electric cars that are more popular in certain counties or cities? \\n12. Can we identify any potential outliers, such as a city with an unusually high number of a particular make or model of electric car? \\n13. Are there any correlations between the model year and the type of electric vehicle? \\n14. How has the number of registered electric cars changed throughout the year 2020? (This would require the dataset to have a \\'registration_date\\' column.)\\n15. Are there more registrations for newer model years or older ones?' response_metadata={'token_usage': {'completion_tokens': 311, 'prompt_tokens': 236, 'total_tokens': 547}, 'model_name': 'gpt-4-0613', 'system_fingerprint': None, 'finish_reason': 'stop', 'logprobs': None} id='run-e66040d5-20f2-4949-9995-354ea16681e3-0'\n",
      "\n",
      "----\n",
      "\n",
      "Just the response's content\n",
      "\n",
      "1. What is the total number of electric cars registered in Washington state in 2020?\n",
      "2. Which city has the highest number of electric cars registered? \n",
      "3. Which county has the highest number of electric cars registered?\n",
      "4. What is the most common model year of the electric cars registered? \n",
      "5. Which make and model of electric car is the most popular in Washington state? \n",
      "6. Which type of electric vehicle, either \"Plug-in Hybrid Electric Vehicle (PHEV)\" or \"Battery Electric Vehicle (BEV)\", is more popular in Washington state?\n",
      "7. Are there certain cities or counties that prefer one type of electric vehicle over the other?\n",
      "8. Are there any patterns or trends in the data that might suggest future growth or decline in electric car registrations?\n",
      "9. Are there any correlations between the city or county and the make or model of the car? \n",
      "10. What is the average number of cars per city or per county? \n",
      "11. Are there certain makes or models of electric cars that are more popular in certain counties or cities? \n",
      "12. Can we identify any potential outliers, such as a city with an unusually high number of a particular make or model of electric car? \n",
      "13. Are there any correlations between the model year and the type of electric vehicle? \n",
      "14. How has the number of registered electric cars changed throughout the year 2020? (This would require the dataset to have a 'registration_date' column.)\n",
      "15. Are there more registrations for newer model years or older ones?\n",
      "\n",
      "----\n",
      "\n",
      "The type of the response\n",
      "\n",
      "<class 'langchain_core.messages.ai.AIMessage'>\n"
     ]
    }
   ],
   "source": [
    "# Concatenate the dataset description and the request\n",
    "msgs_suggest_questions = [\n",
    "    SystemMessage(content=\"You are a data analysis expert.\"),\n",
    "    HumanMessage(content=f\"{dataset_description}\\n\\n{suggest_questions}\")\n",
    "]\n",
    "\n",
    "# Create a ChatOpenAI object\n",
    "chat = ChatOpenAI(model=\"gpt-4-0613\")\n",
    "\n",
    "# Pass your message to GPT\n",
    "rsps_suggest_questions = chat.invoke(msgs_suggest_questions)\n",
    "\n",
    "# Print the response\n",
    "print(\"The whole response\\n\")\n",
    "print(rsps_suggest_questions)\n",
    "\n",
    "print(\"\\n----\\n\")\n",
    "\n",
    "# Print just the response's content\n",
    "print(\"Just the response's content\\n\")\n",
    "print(rsps_suggest_questions.content)\n",
    "\n",
    "print(\"\\n----\\n\")\n",
    "\n",
    "# Print the type of the response\n",
    "print(\"The type of the response\\n\")\n",
    "print(type(rsps_suggest_questions))"
   ]
  },
  {
   "cell_type": "code",
   "execution_count": 45,
   "id": "710f7b25-460b-45a0-8ef0-f9af56945e5f",
   "metadata": {},
   "outputs": [
    {
     "data": {
      "text/markdown": [
       "Here is some Python code using pandas to answer these questions. Please note that this is just an example code and might need adjustments according to the actual DataFrame.\n",
       "\n",
       "```python\n",
       "import pandas as pd\n",
       "\n",
       "# Assuming that electric_cars is your DataFrame\n",
       "# df = pd.read_csv('electric_cars.csv')  # Uncomment this line if you're reading from a CSV file\n",
       "\n",
       "# 1. Top 5 most popular make/model combinations\n",
       "popular_cars = electric_cars.groupby(['make', 'model']).sum()['n_cars']\n",
       "popular_cars = popular_cars.sort_values(ascending=False)\n",
       "print(\"Top 5 most popular make/model combinations:\\n\", popular_cars.head(5))\n",
       "\n",
       "# 2. City with highest number of electric cars registered\n",
       "top_city = electric_cars.groupby('city').sum()['n_cars'].idxmax()\n",
       "print(\"City with highest number of electric cars registered:\", top_city)\n",
       "\n",
       "# 3. County with highest number of electric cars registered\n",
       "top_county = electric_cars.groupby('county').sum()['n_cars'].idxmax()\n",
       "print(\"County with highest number of electric cars registered:\", top_county)\n",
       "\n",
       "# 4. Most common model year of the electric cars registered\n",
       "common_year = electric_cars['model_year'].mode()[0]\n",
       "print(\"Most common model year of the electric cars registered:\", common_year)\n",
       "\n",
       "# 5. Most popular make and model of electric car\n",
       "most_popular_car = popular_cars.idxmax()\n",
       "print(\"Most popular make and model of electric car:\", most_popular_car)\n",
       "\n",
       "# 6. Most popular type of electric vehicle\n",
       "popular_ev = electric_cars.groupby('electric_vehicle_type').sum()['n_cars'].idxmax()\n",
       "print(\"Most popular type of electric vehicle:\", popular_ev)\n",
       "\n",
       "# 7. Cities or counties that prefer one type of electric vehicle over the other\n",
       "cities_pref_ev = electric_cars.groupby(['city', 'electric_vehicle_type']).sum()['n_cars'].unstack().idxmax(axis=1)\n",
       "counties_pref_ev = electric_cars.groupby(['county', 'electric_vehicle_type']).sum()['n_cars'].unstack().idxmax(axis=1)\n",
       "print(\"Cities preferences for electric vehicle type:\\n\", cities_pref_ev)\n",
       "print(\"Counties preferences for electric vehicle type:\\n\", counties_pref_ev)\n",
       "```\n",
       "\n",
       "This code provides the answers to your questions as per the dataset. Please note that the actual results will depend on the contents of your DataFrame."
      ],
      "text/plain": [
       "<IPython.core.display.Markdown object>"
      ]
     },
     "metadata": {},
     "output_type": "display_data"
    }
   ],
   "source": [
    "# Additional questions from the response\n",
    "additional_questions = \"\"\"\n",
    "Write some Python code to answer the following questions using the dataset:\n",
    "1. Find the top 5 most popular make/model combinations of electric car in Washington.\n",
    "2. Which city has the highest number of electric cars registered? \n",
    "3. Which county has the highest number of electric cars registered?\n",
    "4. What is the most common model year of the electric cars registered? \n",
    "5. Which make and model of electric car is the most popular in Washington state? \n",
    "6. Which type of electric vehicle, either \"Plug-in Hybrid Electric Vehicle (PHEV)\" or \"Battery Electric Vehicle (BEV)\", is more popular in Washington state?\n",
    "7. Are there certain cities or counties that prefer one type of electric vehicle over the other?\n",
    "\"\"\"\n",
    "\n",
    "# Append the response and the new message to the previous messages\n",
    "msgs_python_top_models = msgs_suggest_questions + [\n",
    "    rsps_suggest_questions,\n",
    "    HumanMessage(content=additional_questions)\n",
    "]\n",
    "\n",
    "# Pass your message to GPT\n",
    "rsps_python_top_models = chat.invoke(msgs_python_top_models)\n",
    "\n",
    "# Display the response's Markdown content\n",
    "display(Markdown(rsps_python_top_models.content))"
   ]
  },
  {
   "cell_type": "code",
   "execution_count": 41,
   "id": "bff35a2e-5115-4d90-830c-3947958add35",
   "metadata": {},
   "outputs": [
    {
     "name": "stdout",
     "output_type": "stream",
     "text": [
      "The top 5 most popular make/model combinations of electric car in Washington: \n",
      " make       model  \n",
      "TESLA      MODEL Y    28502\n",
      "           MODEL 3    27708\n",
      "NISSAN     LEAF       13186\n",
      "TESLA      MODEL S     7611\n",
      "CHEVROLET  BOLT EV     5733\n",
      "Name: n_cars, dtype: int64\n",
      "\n",
      "City with highest number of electric cars: \n",
      " Seattle\n",
      "\n",
      "County with highest number of electric cars: \n",
      " King\n",
      "\n",
      "The most common model year of the electric cars registered: \n",
      " 2023\n",
      "\n",
      "Most popular make and model of electric car in Washington state:  ('TESLA', 'MODEL Y')\n",
      "\n",
      "Most popular type of electric vehicle in Washington state: \n",
      " Battery Electric Vehicle (BEV)\n",
      "\n",
      "City preference for type of electric vehicle:  ('Seattle', 'Battery Electric Vehicle (BEV)')\n",
      "\n",
      "County preference for type of electric vehicle: \n",
      " ('King', 'Battery Electric Vehicle (BEV)')\n"
     ]
    }
   ],
   "source": [
    "# 1. Find the top 5 most popular make/model combinations of electric car in Washington.\n",
    "popular_combinations = electric_cars.groupby(['make', 'model']).sum()['n_cars']\n",
    "top_5_combinations = popular_combinations.sort_values(ascending=False).head(5)\n",
    "print(\"The top 5 most popular make/model combinations of electric car in Washington: \\n\", top_5_combinations)\n",
    "\n",
    "# 2. Which city has the highest number of electric cars registered?\n",
    "city_counts = electric_cars.groupby('city').sum()['n_cars']\n",
    "top_city = city_counts.idxmax()\n",
    "print(\"\\nCity with highest number of electric cars: \\n\", top_city)\n",
    "\n",
    "# 3. Which county has the highest number of electric cars registered?\n",
    "county_counts = electric_cars.groupby('county').sum()['n_cars']\n",
    "top_county = county_counts.idxmax()\n",
    "print(\"\\nCounty with highest number of electric cars: \\n\", top_county)\n",
    "\n",
    "# 4. What is the most common model year of the electric cars registered?\n",
    "common_year = electric_cars['model_year'].mode()[0]\n",
    "print(\"\\nThe most common model year of the electric cars registered: \\n\", common_year)\n",
    "\n",
    "# 5. Which make and model of electric car is the most popular in Washington state?\n",
    "popular_car = electric_cars.groupby(['make', 'model']).sum()['n_cars'].idxmax()\n",
    "print(\"\\nMost popular make and model of electric car in Washington state: \", popular_car)\n",
    "\n",
    "# 6. Which type of electric vehicle, either \"Plug-in Hybrid Electric Vehicle (PHEV)\" or \"Battery Electric Vehicle (BEV)\", is more popular in Washington state?\n",
    "popular_type = electric_cars.groupby('electric_vehicle_type').sum()['n_cars'].idxmax()\n",
    "print(\"\\nMost popular type of electric vehicle in Washington state: \\n\", popular_type)\n",
    "\n",
    "# 7. Are there certain cities or counties that prefer one type of electric vehicle over the other?\n",
    "city_pref = electric_cars.groupby(['city', 'electric_vehicle_type']).sum()['n_cars'].idxmax()\n",
    "county_pref = electric_cars.groupby(['county', 'electric_vehicle_type']).sum()['n_cars'].idxmax()\n",
    "print(\"\\nCity preference for type of electric vehicle: \", city_pref)\n",
    "print(\"\\nCounty preference for type of electric vehicle: \\n\", county_pref)"
   ]
  },
  {
   "cell_type": "code",
   "execution_count": 55,
   "id": "322347bd-68d7-4030-9a87-39225d04b4b1",
   "metadata": {},
   "outputs": [
    {
     "data": {
      "application/vnd.plotly.v1+json": {
       "config": {
        "plotlyServerURL": "https://plot.ly"
       },
       "data": [
        {
         "alignmentgroup": "True",
         "hovertemplate": "electric_vehicle_type=Battery Electric Vehicle (BEV)<br>Model Year=%{x}<br>Count of Electric Cars=%{y}<extra></extra>",
         "legendgroup": "Battery Electric Vehicle (BEV)",
         "marker": {
          "color": "green",
          "pattern": {
           "shape": ""
          }
         },
         "name": "Battery Electric Vehicle (BEV)",
         "offsetgroup": "Battery Electric Vehicle (BEV)",
         "orientation": "v",
         "showlegend": true,
         "textposition": "auto",
         "type": "bar",
         "x": [
          1997,
          1998,
          1999,
          2000,
          2002,
          2003,
          2008,
          2010,
          2011,
          2012,
          2013,
          2014,
          2015,
          2016,
          2017,
          2018,
          2019,
          2020,
          2021,
          2022,
          2023,
          2024
         ],
         "xaxis": "x",
         "y": [
          1,
          1,
          4,
          8,
          2,
          1,
          18,
          21,
          718,
          776,
          2926,
          1796,
          3625,
          3867,
          4466,
          10046,
          8771,
          9617,
          14998,
          23511,
          31360,
          271
         ],
         "yaxis": "y"
        },
        {
         "alignmentgroup": "True",
         "hovertemplate": "electric_vehicle_type=Plug-in Hybrid Electric Vehicle (PHEV)<br>Model Year=%{x}<br>Count of Electric Cars=%{y}<extra></extra>",
         "legendgroup": "Plug-in Hybrid Electric Vehicle (PHEV)",
         "marker": {
          "color": "blue",
          "pattern": {
           "shape": ""
          }
         },
         "name": "Plug-in Hybrid Electric Vehicle (PHEV)",
         "offsetgroup": "Plug-in Hybrid Electric Vehicle (PHEV)",
         "orientation": "v",
         "showlegend": true,
         "textposition": "auto",
         "type": "bar",
         "x": [
          2010,
          2011,
          2012,
          2013,
          2014,
          2015,
          2016,
          2017,
          2018,
          2019,
          2020,
          2021,
          2022,
          2023,
          2024
         ],
         "xaxis": "x",
         "y": [
          3,
          78,
          857,
          1639,
          1817,
          1309,
          1783,
          4108,
          4395,
          1945,
          1677,
          3686,
          4288,
          5719,
          371
         ],
         "yaxis": "y"
        }
       ],
       "layout": {
        "autosize": true,
        "barmode": "relative",
        "legend": {
         "title": {
          "text": "electric_vehicle_type"
         },
         "tracegroupgap": 0
        },
        "template": {
         "data": {
          "bar": [
           {
            "error_x": {
             "color": "#2a3f5f"
            },
            "error_y": {
             "color": "#2a3f5f"
            },
            "marker": {
             "line": {
              "color": "#E5ECF6",
              "width": 0.5
             },
             "pattern": {
              "fillmode": "overlay",
              "size": 10,
              "solidity": 0.2
             }
            },
            "type": "bar"
           }
          ],
          "barpolar": [
           {
            "marker": {
             "line": {
              "color": "#E5ECF6",
              "width": 0.5
             },
             "pattern": {
              "fillmode": "overlay",
              "size": 10,
              "solidity": 0.2
             }
            },
            "type": "barpolar"
           }
          ],
          "carpet": [
           {
            "aaxis": {
             "endlinecolor": "#2a3f5f",
             "gridcolor": "white",
             "linecolor": "white",
             "minorgridcolor": "white",
             "startlinecolor": "#2a3f5f"
            },
            "baxis": {
             "endlinecolor": "#2a3f5f",
             "gridcolor": "white",
             "linecolor": "white",
             "minorgridcolor": "white",
             "startlinecolor": "#2a3f5f"
            },
            "type": "carpet"
           }
          ],
          "choropleth": [
           {
            "colorbar": {
             "outlinewidth": 0,
             "ticks": ""
            },
            "type": "choropleth"
           }
          ],
          "contour": [
           {
            "colorbar": {
             "outlinewidth": 0,
             "ticks": ""
            },
            "colorscale": [
             [
              0,
              "#0d0887"
             ],
             [
              0.1111111111111111,
              "#46039f"
             ],
             [
              0.2222222222222222,
              "#7201a8"
             ],
             [
              0.3333333333333333,
              "#9c179e"
             ],
             [
              0.4444444444444444,
              "#bd3786"
             ],
             [
              0.5555555555555556,
              "#d8576b"
             ],
             [
              0.6666666666666666,
              "#ed7953"
             ],
             [
              0.7777777777777778,
              "#fb9f3a"
             ],
             [
              0.8888888888888888,
              "#fdca26"
             ],
             [
              1,
              "#f0f921"
             ]
            ],
            "type": "contour"
           }
          ],
          "contourcarpet": [
           {
            "colorbar": {
             "outlinewidth": 0,
             "ticks": ""
            },
            "type": "contourcarpet"
           }
          ],
          "heatmap": [
           {
            "colorbar": {
             "outlinewidth": 0,
             "ticks": ""
            },
            "colorscale": [
             [
              0,
              "#0d0887"
             ],
             [
              0.1111111111111111,
              "#46039f"
             ],
             [
              0.2222222222222222,
              "#7201a8"
             ],
             [
              0.3333333333333333,
              "#9c179e"
             ],
             [
              0.4444444444444444,
              "#bd3786"
             ],
             [
              0.5555555555555556,
              "#d8576b"
             ],
             [
              0.6666666666666666,
              "#ed7953"
             ],
             [
              0.7777777777777778,
              "#fb9f3a"
             ],
             [
              0.8888888888888888,
              "#fdca26"
             ],
             [
              1,
              "#f0f921"
             ]
            ],
            "type": "heatmap"
           }
          ],
          "heatmapgl": [
           {
            "colorbar": {
             "outlinewidth": 0,
             "ticks": ""
            },
            "colorscale": [
             [
              0,
              "#0d0887"
             ],
             [
              0.1111111111111111,
              "#46039f"
             ],
             [
              0.2222222222222222,
              "#7201a8"
             ],
             [
              0.3333333333333333,
              "#9c179e"
             ],
             [
              0.4444444444444444,
              "#bd3786"
             ],
             [
              0.5555555555555556,
              "#d8576b"
             ],
             [
              0.6666666666666666,
              "#ed7953"
             ],
             [
              0.7777777777777778,
              "#fb9f3a"
             ],
             [
              0.8888888888888888,
              "#fdca26"
             ],
             [
              1,
              "#f0f921"
             ]
            ],
            "type": "heatmapgl"
           }
          ],
          "histogram": [
           {
            "marker": {
             "pattern": {
              "fillmode": "overlay",
              "size": 10,
              "solidity": 0.2
             }
            },
            "type": "histogram"
           }
          ],
          "histogram2d": [
           {
            "colorbar": {
             "outlinewidth": 0,
             "ticks": ""
            },
            "colorscale": [
             [
              0,
              "#0d0887"
             ],
             [
              0.1111111111111111,
              "#46039f"
             ],
             [
              0.2222222222222222,
              "#7201a8"
             ],
             [
              0.3333333333333333,
              "#9c179e"
             ],
             [
              0.4444444444444444,
              "#bd3786"
             ],
             [
              0.5555555555555556,
              "#d8576b"
             ],
             [
              0.6666666666666666,
              "#ed7953"
             ],
             [
              0.7777777777777778,
              "#fb9f3a"
             ],
             [
              0.8888888888888888,
              "#fdca26"
             ],
             [
              1,
              "#f0f921"
             ]
            ],
            "type": "histogram2d"
           }
          ],
          "histogram2dcontour": [
           {
            "colorbar": {
             "outlinewidth": 0,
             "ticks": ""
            },
            "colorscale": [
             [
              0,
              "#0d0887"
             ],
             [
              0.1111111111111111,
              "#46039f"
             ],
             [
              0.2222222222222222,
              "#7201a8"
             ],
             [
              0.3333333333333333,
              "#9c179e"
             ],
             [
              0.4444444444444444,
              "#bd3786"
             ],
             [
              0.5555555555555556,
              "#d8576b"
             ],
             [
              0.6666666666666666,
              "#ed7953"
             ],
             [
              0.7777777777777778,
              "#fb9f3a"
             ],
             [
              0.8888888888888888,
              "#fdca26"
             ],
             [
              1,
              "#f0f921"
             ]
            ],
            "type": "histogram2dcontour"
           }
          ],
          "mesh3d": [
           {
            "colorbar": {
             "outlinewidth": 0,
             "ticks": ""
            },
            "type": "mesh3d"
           }
          ],
          "parcoords": [
           {
            "line": {
             "colorbar": {
              "outlinewidth": 0,
              "ticks": ""
             }
            },
            "type": "parcoords"
           }
          ],
          "pie": [
           {
            "automargin": true,
            "type": "pie"
           }
          ],
          "scatter": [
           {
            "fillpattern": {
             "fillmode": "overlay",
             "size": 10,
             "solidity": 0.2
            },
            "type": "scatter"
           }
          ],
          "scatter3d": [
           {
            "line": {
             "colorbar": {
              "outlinewidth": 0,
              "ticks": ""
             }
            },
            "marker": {
             "colorbar": {
              "outlinewidth": 0,
              "ticks": ""
             }
            },
            "type": "scatter3d"
           }
          ],
          "scattercarpet": [
           {
            "marker": {
             "colorbar": {
              "outlinewidth": 0,
              "ticks": ""
             }
            },
            "type": "scattercarpet"
           }
          ],
          "scattergeo": [
           {
            "marker": {
             "colorbar": {
              "outlinewidth": 0,
              "ticks": ""
             }
            },
            "type": "scattergeo"
           }
          ],
          "scattergl": [
           {
            "marker": {
             "colorbar": {
              "outlinewidth": 0,
              "ticks": ""
             }
            },
            "type": "scattergl"
           }
          ],
          "scattermapbox": [
           {
            "marker": {
             "colorbar": {
              "outlinewidth": 0,
              "ticks": ""
             }
            },
            "type": "scattermapbox"
           }
          ],
          "scatterpolar": [
           {
            "marker": {
             "colorbar": {
              "outlinewidth": 0,
              "ticks": ""
             }
            },
            "type": "scatterpolar"
           }
          ],
          "scatterpolargl": [
           {
            "marker": {
             "colorbar": {
              "outlinewidth": 0,
              "ticks": ""
             }
            },
            "type": "scatterpolargl"
           }
          ],
          "scatterternary": [
           {
            "marker": {
             "colorbar": {
              "outlinewidth": 0,
              "ticks": ""
             }
            },
            "type": "scatterternary"
           }
          ],
          "surface": [
           {
            "colorbar": {
             "outlinewidth": 0,
             "ticks": ""
            },
            "colorscale": [
             [
              0,
              "#0d0887"
             ],
             [
              0.1111111111111111,
              "#46039f"
             ],
             [
              0.2222222222222222,
              "#7201a8"
             ],
             [
              0.3333333333333333,
              "#9c179e"
             ],
             [
              0.4444444444444444,
              "#bd3786"
             ],
             [
              0.5555555555555556,
              "#d8576b"
             ],
             [
              0.6666666666666666,
              "#ed7953"
             ],
             [
              0.7777777777777778,
              "#fb9f3a"
             ],
             [
              0.8888888888888888,
              "#fdca26"
             ],
             [
              1,
              "#f0f921"
             ]
            ],
            "type": "surface"
           }
          ],
          "table": [
           {
            "cells": {
             "fill": {
              "color": "#EBF0F8"
             },
             "line": {
              "color": "white"
             }
            },
            "header": {
             "fill": {
              "color": "#C8D4E3"
             },
             "line": {
              "color": "white"
             }
            },
            "type": "table"
           }
          ]
         },
         "layout": {
          "annotationdefaults": {
           "arrowcolor": "#2a3f5f",
           "arrowhead": 0,
           "arrowwidth": 1
          },
          "autotypenumbers": "strict",
          "coloraxis": {
           "colorbar": {
            "outlinewidth": 0,
            "ticks": ""
           }
          },
          "colorscale": {
           "diverging": [
            [
             0,
             "#8e0152"
            ],
            [
             0.1,
             "#c51b7d"
            ],
            [
             0.2,
             "#de77ae"
            ],
            [
             0.3,
             "#f1b6da"
            ],
            [
             0.4,
             "#fde0ef"
            ],
            [
             0.5,
             "#f7f7f7"
            ],
            [
             0.6,
             "#e6f5d0"
            ],
            [
             0.7,
             "#b8e186"
            ],
            [
             0.8,
             "#7fbc41"
            ],
            [
             0.9,
             "#4d9221"
            ],
            [
             1,
             "#276419"
            ]
           ],
           "sequential": [
            [
             0,
             "#0d0887"
            ],
            [
             0.1111111111111111,
             "#46039f"
            ],
            [
             0.2222222222222222,
             "#7201a8"
            ],
            [
             0.3333333333333333,
             "#9c179e"
            ],
            [
             0.4444444444444444,
             "#bd3786"
            ],
            [
             0.5555555555555556,
             "#d8576b"
            ],
            [
             0.6666666666666666,
             "#ed7953"
            ],
            [
             0.7777777777777778,
             "#fb9f3a"
            ],
            [
             0.8888888888888888,
             "#fdca26"
            ],
            [
             1,
             "#f0f921"
            ]
           ],
           "sequentialminus": [
            [
             0,
             "#0d0887"
            ],
            [
             0.1111111111111111,
             "#46039f"
            ],
            [
             0.2222222222222222,
             "#7201a8"
            ],
            [
             0.3333333333333333,
             "#9c179e"
            ],
            [
             0.4444444444444444,
             "#bd3786"
            ],
            [
             0.5555555555555556,
             "#d8576b"
            ],
            [
             0.6666666666666666,
             "#ed7953"
            ],
            [
             0.7777777777777778,
             "#fb9f3a"
            ],
            [
             0.8888888888888888,
             "#fdca26"
            ],
            [
             1,
             "#f0f921"
            ]
           ]
          },
          "colorway": [
           "#636efa",
           "#EF553B",
           "#00cc96",
           "#ab63fa",
           "#FFA15A",
           "#19d3f3",
           "#FF6692",
           "#B6E880",
           "#FF97FF",
           "#FECB52"
          ],
          "font": {
           "color": "#2a3f5f"
          },
          "geo": {
           "bgcolor": "white",
           "lakecolor": "white",
           "landcolor": "#E5ECF6",
           "showlakes": true,
           "showland": true,
           "subunitcolor": "white"
          },
          "hoverlabel": {
           "align": "left"
          },
          "hovermode": "closest",
          "mapbox": {
           "style": "light"
          },
          "paper_bgcolor": "white",
          "plot_bgcolor": "#E5ECF6",
          "polar": {
           "angularaxis": {
            "gridcolor": "white",
            "linecolor": "white",
            "ticks": ""
           },
           "bgcolor": "#E5ECF6",
           "radialaxis": {
            "gridcolor": "white",
            "linecolor": "white",
            "ticks": ""
           }
          },
          "scene": {
           "xaxis": {
            "backgroundcolor": "#E5ECF6",
            "gridcolor": "white",
            "gridwidth": 2,
            "linecolor": "white",
            "showbackground": true,
            "ticks": "",
            "zerolinecolor": "white"
           },
           "yaxis": {
            "backgroundcolor": "#E5ECF6",
            "gridcolor": "white",
            "gridwidth": 2,
            "linecolor": "white",
            "showbackground": true,
            "ticks": "",
            "zerolinecolor": "white"
           },
           "zaxis": {
            "backgroundcolor": "#E5ECF6",
            "gridcolor": "white",
            "gridwidth": 2,
            "linecolor": "white",
            "showbackground": true,
            "ticks": "",
            "zerolinecolor": "white"
           }
          },
          "shapedefaults": {
           "line": {
            "color": "#2a3f5f"
           }
          },
          "ternary": {
           "aaxis": {
            "gridcolor": "white",
            "linecolor": "white",
            "ticks": ""
           },
           "baxis": {
            "gridcolor": "white",
            "linecolor": "white",
            "ticks": ""
           },
           "bgcolor": "#E5ECF6",
           "caxis": {
            "gridcolor": "white",
            "linecolor": "white",
            "ticks": ""
           }
          },
          "title": {
           "x": 0.05
          },
          "xaxis": {
           "automargin": true,
           "gridcolor": "white",
           "linecolor": "white",
           "ticks": "",
           "title": {
            "standoff": 15
           },
           "zerolinecolor": "white",
           "zerolinewidth": 2
          },
          "yaxis": {
           "automargin": true,
           "gridcolor": "white",
           "linecolor": "white",
           "ticks": "",
           "title": {
            "standoff": 15
           },
           "zerolinecolor": "white",
           "zerolinewidth": 2
          }
         }
        },
        "title": {
         "text": "Total Count of Electric Cars by Model Year"
        },
        "xaxis": {
         "anchor": "y",
         "autorange": true,
         "domain": [
          0,
          1
         ],
         "range": [
          1996.5,
          2024.5
         ],
         "title": {
          "text": "Model Year"
         },
         "type": "linear"
        },
        "yaxis": {
         "anchor": "x",
         "autorange": true,
         "domain": [
          0,
          1
         ],
         "range": [
          0,
          39030.52631578947
         ],
         "title": {
          "text": "Count of Electric Cars"
         },
         "type": "linear"
        }
       }
      },
      "image/png": "[encoded data removed]",
      "text/html": [
       "<div>                            <div id=\"38ab4b8c-e408-4228-ab08-d1cad97ed83e\" class=\"plotly-graph-div\" style=\"height:525px; width:100%;\"></div>            <script type=\"text/javascript\">                require([\"plotly\"], function(Plotly) {                    window.PLOTLYENV=window.PLOTLYENV || {};                                    if (document.getElementById(\"38ab4b8c-e408-4228-ab08-d1cad97ed83e\")) {                    Plotly.newPlot(                        \"38ab4b8c-e408-4228-ab08-d1cad97ed83e\",                        [{\"alignmentgroup\":\"True\",\"hovertemplate\":\"electric_vehicle_type=Battery Electric Vehicle (BEV)\\u003cbr\\u003eModel Year=%{x}\\u003cbr\\u003eCount of Electric Cars=%{y}\\u003cextra\\u003e\\u003c\\u002fextra\\u003e\",\"legendgroup\":\"Battery Electric Vehicle (BEV)\",\"marker\":{\"color\":\"green\",\"pattern\":{\"shape\":\"\"}},\"name\":\"Battery Electric Vehicle (BEV)\",\"offsetgroup\":\"Battery Electric Vehicle (BEV)\",\"orientation\":\"v\",\"showlegend\":true,\"textposition\":\"auto\",\"x\":[1997,1998,1999,2000,2002,2003,2008,2010,2011,2012,2013,2014,2015,2016,2017,2018,2019,2020,2021,2022,2023,2024],\"xaxis\":\"x\",\"y\":[1,1,4,8,2,1,18,21,718,776,2926,1796,3625,3867,4466,10046,8771,9617,14998,23511,31360,271],\"yaxis\":\"y\",\"type\":\"bar\"},{\"alignmentgroup\":\"True\",\"hovertemplate\":\"electric_vehicle_type=Plug-in Hybrid Electric Vehicle (PHEV)\\u003cbr\\u003eModel Year=%{x}\\u003cbr\\u003eCount of Electric Cars=%{y}\\u003cextra\\u003e\\u003c\\u002fextra\\u003e\",\"legendgroup\":\"Plug-in Hybrid Electric Vehicle (PHEV)\",\"marker\":{\"color\":\"blue\",\"pattern\":{\"shape\":\"\"}},\"name\":\"Plug-in Hybrid Electric Vehicle (PHEV)\",\"offsetgroup\":\"Plug-in Hybrid Electric Vehicle (PHEV)\",\"orientation\":\"v\",\"showlegend\":true,\"textposition\":\"auto\",\"x\":[2010,2011,2012,2013,2014,2015,2016,2017,2018,2019,2020,2021,2022,2023,2024],\"xaxis\":\"x\",\"y\":[3,78,857,1639,1817,1309,1783,4108,4395,1945,1677,3686,4288,5719,371],\"yaxis\":\"y\",\"type\":\"bar\"}],                        {\"template\":{\"data\":{\"histogram2dcontour\":[{\"type\":\"histogram2dcontour\",\"colorbar\":{\"outlinewidth\":0,\"ticks\":\"\"},\"colorscale\":[[0.0,\"#0d0887\"],[0.1111111111111111,\"#46039f\"],[0.2222222222222222,\"#7201a8\"],[0.3333333333333333,\"#9c179e\"],[0.4444444444444444,\"#bd3786\"],[0.5555555555555556,\"#d8576b\"],[0.6666666666666666,\"#ed7953\"],[0.7777777777777778,\"#fb9f3a\"],[0.8888888888888888,\"#fdca26\"],[1.0,\"#f0f921\"]]}],\"choropleth\":[{\"type\":\"choropleth\",\"colorbar\":{\"outlinewidth\":0,\"ticks\":\"\"}}],\"histogram2d\":[{\"type\":\"histogram2d\",\"colorbar\":{\"outlinewidth\":0,\"ticks\":\"\"},\"colorscale\":[[0.0,\"#0d0887\"],[0.1111111111111111,\"#46039f\"],[0.2222222222222222,\"#7201a8\"],[0.3333333333333333,\"#9c179e\"],[0.4444444444444444,\"#bd3786\"],[0.5555555555555556,\"#d8576b\"],[0.6666666666666666,\"#ed7953\"],[0.7777777777777778,\"#fb9f3a\"],[0.8888888888888888,\"#fdca26\"],[1.0,\"#f0f921\"]]}],\"heatmap\":[{\"type\":\"heatmap\",\"colorbar\":{\"outlinewidth\":0,\"ticks\":\"\"},\"colorscale\":[[0.0,\"#0d0887\"],[0.1111111111111111,\"#46039f\"],[0.2222222222222222,\"#7201a8\"],[0.3333333333333333,\"#9c179e\"],[0.4444444444444444,\"#bd3786\"],[0.5555555555555556,\"#d8576b\"],[0.6666666666666666,\"#ed7953\"],[0.7777777777777778,\"#fb9f3a\"],[0.8888888888888888,\"#fdca26\"],[1.0,\"#f0f921\"]]}],\"heatmapgl\":[{\"type\":\"heatmapgl\",\"colorbar\":{\"outlinewidth\":0,\"ticks\":\"\"},\"colorscale\":[[0.0,\"#0d0887\"],[0.1111111111111111,\"#46039f\"],[0.2222222222222222,\"#7201a8\"],[0.3333333333333333,\"#9c179e\"],[0.4444444444444444,\"#bd3786\"],[0.5555555555555556,\"#d8576b\"],[0.6666666666666666,\"#ed7953\"],[0.7777777777777778,\"#fb9f3a\"],[0.8888888888888888,\"#fdca26\"],[1.0,\"#f0f921\"]]}],\"contourcarpet\":[{\"type\":\"contourcarpet\",\"colorbar\":{\"outlinewidth\":0,\"ticks\":\"\"}}],\"contour\":[{\"type\":\"contour\",\"colorbar\":{\"outlinewidth\":0,\"ticks\":\"\"},\"colorscale\":[[0.0,\"#0d0887\"],[0.1111111111111111,\"#46039f\"],[0.2222222222222222,\"#7201a8\"],[0.3333333333333333,\"#9c179e\"],[0.4444444444444444,\"#bd3786\"],[0.5555555555555556,\"#d8576b\"],[0.6666666666666666,\"#ed7953\"],[0.7777777777777778,\"#fb9f3a\"],[0.8888888888888888,\"#fdca26\"],[1.0,\"#f0f921\"]]}],\"surface\":[{\"type\":\"surface\",\"colorbar\":{\"outlinewidth\":0,\"ticks\":\"\"},\"colorscale\":[[0.0,\"#0d0887\"],[0.1111111111111111,\"#46039f\"],[0.2222222222222222,\"#7201a8\"],[0.3333333333333333,\"#9c179e\"],[0.4444444444444444,\"#bd3786\"],[0.5555555555555556,\"#d8576b\"],[0.6666666666666666,\"#ed7953\"],[0.7777777777777778,\"#fb9f3a\"],[0.8888888888888888,\"#fdca26\"],[1.0,\"#f0f921\"]]}],\"mesh3d\":[{\"type\":\"mesh3d\",\"colorbar\":{\"outlinewidth\":0,\"ticks\":\"\"}}],\"scatter\":[{\"fillpattern\":{\"fillmode\":\"overlay\",\"size\":10,\"solidity\":0.2},\"type\":\"scatter\"}],\"parcoords\":[{\"type\":\"parcoords\",\"line\":{\"colorbar\":{\"outlinewidth\":0,\"ticks\":\"\"}}}],\"scatterpolargl\":[{\"type\":\"scatterpolargl\",\"marker\":{\"colorbar\":{\"outlinewidth\":0,\"ticks\":\"\"}}}],\"bar\":[{\"error_x\":{\"color\":\"#2a3f5f\"},\"error_y\":{\"color\":\"#2a3f5f\"},\"marker\":{\"line\":{\"color\":\"#E5ECF6\",\"width\":0.5},\"pattern\":{\"fillmode\":\"overlay\",\"size\":10,\"solidity\":0.2}},\"type\":\"bar\"}],\"scattergeo\":[{\"type\":\"scattergeo\",\"marker\":{\"colorbar\":{\"outlinewidth\":0,\"ticks\":\"\"}}}],\"scatterpolar\":[{\"type\":\"scatterpolar\",\"marker\":{\"colorbar\":{\"outlinewidth\":0,\"ticks\":\"\"}}}],\"histogram\":[{\"marker\":{\"pattern\":{\"fillmode\":\"overlay\",\"size\":10,\"solidity\":0.2}},\"type\":\"histogram\"}],\"scattergl\":[{\"type\":\"scattergl\",\"marker\":{\"colorbar\":{\"outlinewidth\":0,\"ticks\":\"\"}}}],\"scatter3d\":[{\"type\":\"scatter3d\",\"line\":{\"colorbar\":{\"outlinewidth\":0,\"ticks\":\"\"}},\"marker\":{\"colorbar\":{\"outlinewidth\":0,\"ticks\":\"\"}}}],\"scattermapbox\":[{\"type\":\"scattermapbox\",\"marker\":{\"colorbar\":{\"outlinewidth\":0,\"ticks\":\"\"}}}],\"scatterternary\":[{\"type\":\"scatterternary\",\"marker\":{\"colorbar\":{\"outlinewidth\":0,\"ticks\":\"\"}}}],\"scattercarpet\":[{\"type\":\"scattercarpet\",\"marker\":{\"colorbar\":{\"outlinewidth\":0,\"ticks\":\"\"}}}],\"carpet\":[{\"aaxis\":{\"endlinecolor\":\"#2a3f5f\",\"gridcolor\":\"white\",\"linecolor\":\"white\",\"minorgridcolor\":\"white\",\"startlinecolor\":\"#2a3f5f\"},\"baxis\":{\"endlinecolor\":\"#2a3f5f\",\"gridcolor\":\"white\",\"linecolor\":\"white\",\"minorgridcolor\":\"white\",\"startlinecolor\":\"#2a3f5f\"},\"type\":\"carpet\"}],\"table\":[{\"cells\":{\"fill\":{\"color\":\"#EBF0F8\"},\"line\":{\"color\":\"white\"}},\"header\":{\"fill\":{\"color\":\"#C8D4E3\"},\"line\":{\"color\":\"white\"}},\"type\":\"table\"}],\"barpolar\":[{\"marker\":{\"line\":{\"color\":\"#E5ECF6\",\"width\":0.5},\"pattern\":{\"fillmode\":\"overlay\",\"size\":10,\"solidity\":0.2}},\"type\":\"barpolar\"}],\"pie\":[{\"automargin\":true,\"type\":\"pie\"}]},\"layout\":{\"autotypenumbers\":\"strict\",\"colorway\":[\"#636efa\",\"#EF553B\",\"#00cc96\",\"#ab63fa\",\"#FFA15A\",\"#19d3f3\",\"#FF6692\",\"#B6E880\",\"#FF97FF\",\"#FECB52\"],\"font\":{\"color\":\"#2a3f5f\"},\"hovermode\":\"closest\",\"hoverlabel\":{\"align\":\"left\"},\"paper_bgcolor\":\"white\",\"plot_bgcolor\":\"#E5ECF6\",\"polar\":{\"bgcolor\":\"#E5ECF6\",\"angularaxis\":{\"gridcolor\":\"white\",\"linecolor\":\"white\",\"ticks\":\"\"},\"radialaxis\":{\"gridcolor\":\"white\",\"linecolor\":\"white\",\"ticks\":\"\"}},\"ternary\":{\"bgcolor\":\"#E5ECF6\",\"aaxis\":{\"gridcolor\":\"white\",\"linecolor\":\"white\",\"ticks\":\"\"},\"baxis\":{\"gridcolor\":\"white\",\"linecolor\":\"white\",\"ticks\":\"\"},\"caxis\":{\"gridcolor\":\"white\",\"linecolor\":\"white\",\"ticks\":\"\"}},\"coloraxis\":{\"colorbar\":{\"outlinewidth\":0,\"ticks\":\"\"}},\"colorscale\":{\"sequential\":[[0.0,\"#0d0887\"],[0.1111111111111111,\"#46039f\"],[0.2222222222222222,\"#7201a8\"],[0.3333333333333333,\"#9c179e\"],[0.4444444444444444,\"#bd3786\"],[0.5555555555555556,\"#d8576b\"],[0.6666666666666666,\"#ed7953\"],[0.7777777777777778,\"#fb9f3a\"],[0.8888888888888888,\"#fdca26\"],[1.0,\"#f0f921\"]],\"sequentialminus\":[[0.0,\"#0d0887\"],[0.1111111111111111,\"#46039f\"],[0.2222222222222222,\"#7201a8\"],[0.3333333333333333,\"#9c179e\"],[0.4444444444444444,\"#bd3786\"],[0.5555555555555556,\"#d8576b\"],[0.6666666666666666,\"#ed7953\"],[0.7777777777777778,\"#fb9f3a\"],[0.8888888888888888,\"#fdca26\"],[1.0,\"#f0f921\"]],\"diverging\":[[0,\"#8e0152\"],[0.1,\"#c51b7d\"],[0.2,\"#de77ae\"],[0.3,\"#f1b6da\"],[0.4,\"#fde0ef\"],[0.5,\"#f7f7f7\"],[0.6,\"#e6f5d0\"],[0.7,\"#b8e186\"],[0.8,\"#7fbc41\"],[0.9,\"#4d9221\"],[1,\"#276419\"]]},\"xaxis\":{\"gridcolor\":\"white\",\"linecolor\":\"white\",\"ticks\":\"\",\"title\":{\"standoff\":15},\"zerolinecolor\":\"white\",\"automargin\":true,\"zerolinewidth\":2},\"yaxis\":{\"gridcolor\":\"white\",\"linecolor\":\"white\",\"ticks\":\"\",\"title\":{\"standoff\":15},\"zerolinecolor\":\"white\",\"automargin\":true,\"zerolinewidth\":2},\"scene\":{\"xaxis\":{\"backgroundcolor\":\"#E5ECF6\",\"gridcolor\":\"white\",\"linecolor\":\"white\",\"showbackground\":true,\"ticks\":\"\",\"zerolinecolor\":\"white\",\"gridwidth\":2},\"yaxis\":{\"backgroundcolor\":\"#E5ECF6\",\"gridcolor\":\"white\",\"linecolor\":\"white\",\"showbackground\":true,\"ticks\":\"\",\"zerolinecolor\":\"white\",\"gridwidth\":2},\"zaxis\":{\"backgroundcolor\":\"#E5ECF6\",\"gridcolor\":\"white\",\"linecolor\":\"white\",\"showbackground\":true,\"ticks\":\"\",\"zerolinecolor\":\"white\",\"gridwidth\":2}},\"shapedefaults\":{\"line\":{\"color\":\"#2a3f5f\"}},\"annotationdefaults\":{\"arrowcolor\":\"#2a3f5f\",\"arrowhead\":0,\"arrowwidth\":1},\"geo\":{\"bgcolor\":\"white\",\"landcolor\":\"#E5ECF6\",\"subunitcolor\":\"white\",\"showland\":true,\"showlakes\":true,\"lakecolor\":\"white\"},\"title\":{\"x\":0.05},\"mapbox\":{\"style\":\"light\"}}},\"xaxis\":{\"anchor\":\"y\",\"domain\":[0.0,1.0],\"title\":{\"text\":\"Model Year\"}},\"yaxis\":{\"anchor\":\"x\",\"domain\":[0.0,1.0],\"title\":{\"text\":\"Count of Electric Cars\"}},\"legend\":{\"title\":{\"text\":\"electric_vehicle_type\"},\"tracegroupgap\":0},\"title\":{\"text\":\"Total Count of Electric Cars by Model Year\"},\"barmode\":\"relative\"},                        {\"responsive\": true}                    ).then(function(){\n",
       "                            \n",
       "var gd = document.getElementById('38ab4b8c-e408-4228-ab08-d1cad97ed83e');\n",
       "var x = new MutationObserver(function (mutations, observer) {{\n",
       "        var display = window.getComputedStyle(gd).display;\n",
       "        if (!display || display === 'none') {{\n",
       "            console.log([gd, 'removed!']);\n",
       "            Plotly.purge(gd);\n",
       "            observer.disconnect();\n",
       "        }}\n",
       "}});\n",
       "\n",
       "// Listen for the removal of the full notebook cells\n",
       "var notebookContainer = gd.closest('#notebook-container');\n",
       "if (notebookContainer) {{\n",
       "    x.observe(notebookContainer, {childList: true});\n",
       "}}\n",
       "\n",
       "// Listen for the clearing of the current output cell\n",
       "var outputEl = gd.closest('.output');\n",
       "if (outputEl) {{\n",
       "    x.observe(outputEl, {childList: true});\n",
       "}}\n",
       "\n",
       "                        })                };                });            </script>        </div>"
      ]
     },
     "metadata": {},
     "output_type": "display_data"
    }
   ],
   "source": [
    "# Group the dataset by model year and electric vehicle type, and sum the number of cars for each combination\n",
    "model_year_counts = electric_cars.groupby(['model_year', 'electric_vehicle_type'])['n_cars'].agg('sum').reset_index()\n",
    "\n",
    "# Plot the bar plot using Plotly Express\n",
    "fig = px.bar(model_year_counts,\n",
    "             x='model_year', \n",
    "             y='n_cars', \n",
    "             color='electric_vehicle_type',\n",
    "             title='Total Count of Electric Cars by Model Year',\n",
    "             labels={'model_year': 'Model Year', 'n_cars': 'Count of Electric Cars'},\n",
    "             color_discrete_map={'Plug-in Hybrid Electric Vehicle (PHEV)': 'blue',\n",
    "                                 'Battery Electric Vehicle (BEV)': 'green'})\n",
    "\n",
    "# Show the plot\n",
    "fig.show()\n"
   ]
  },
  {
   "cell_type": "code",
   "execution_count": null,
   "id": "54139e91-105c-444d-8875-d5009c52da90",
   "metadata": {},
   "outputs": [],
   "source": []
  }
 ],
 "metadata": {
  "kernelspec": {
   "display_name": "Python 3 (ipykernel)",
   "language": "python",
   "name": "python3"
  },
  "language_info": {
   "codemirror_mode": {
    "name": "ipython",
    "version": 3
   },
   "file_extension": ".py",
   "mimetype": "text/x-python",
   "name": "python",
   "nbconvert_exporter": "python",
   "pygments_lexer": "ipython3",
   "version": "3.9.12"
  }
 },
 "nbformat": 4,
 "nbformat_minor": 5
}
